{
 "cells": [
  {
   "cell_type": "code",
   "execution_count": 65,
   "metadata": {
    "collapsed": true
   },
   "outputs": [],
   "source": [
    "from __future__ import absolute_import, division, print_function\n",
    "\n",
    "%matplotlib inline\n",
    "# %matplotlib nbagg\n",
    "import tensorflow as tf\n",
    "import matplotlib\n",
    "import numpy as np\n",
    "import matplotlib.pyplot as plt\n",
    "from IPython import display\n",
    "from data_generator_tensorflow import get_batch, print_valid_characters\n",
    "\n",
    "import os\n",
    "import sys\n",
    "sys.path.append(os.path.join('.', '..')) \n",
    "import utils \n",
    "\n",
    "import tf_utils"
   ]
  },
  {
   "cell_type": "markdown",
   "metadata": {},
   "source": [
    "# Recurrent Neural Networks"
   ]
  },
  {
   "cell_type": "markdown",
   "metadata": {},
   "source": [
    "In this exercise I'll use the Encoder-Decoder model"
   ]
  },
  {
   "cell_type": "markdown",
   "metadata": {},
   "source": [
    "### The Data\n",
    "Since RNN models can be very slow to train on real large datasets we will generate some simpler training data for this exercise. The task for the RNN is simply to translate a string of letters spelling the numbers between 0-9 into the corresponding numbers i.e\n",
    "\n",
    "    \"one two five\" --> \"125#\"\n",
    "\n",
    "`#` is a special end-of-sequence character, indicating the sequence is done.\n",
    "\n",
    "To input the strings into the RNN model we translate the characters into a vector integers using a simple translation table (i.e. 'h'->16, 'o'-> 17 etc).\n",
    "The code below prints a few input/output pairs using the *get_batch* function which randomy produces the data.\n",
    "\n",
    "\n",
    "In the data loader below will setup the data and print some information. \n",
    "Key to understand are:\n",
    " * ENCODED INPUTS (`inputs`) are feed into the encoder (`A B C D` in the figure)\n",
    " * ENCODED TARGETS OUTPUT (`targets_out`) are what we want the network to predict. This is used to compute the error. (`X Y Z EOS` in the figure) \n",
    " * ENCODED TARGETS INPUT (`targets_in`) are used for teacher forcing during training. (`EOS X Y Z` in the figure) \n",
    " \n",
    "Note; that we use the same symbol for end-of-sequence as for start-of-sequence (`#`).\n"
   ]
  },
  {
   "cell_type": "code",
   "execution_count": 66,
   "metadata": {
    "collapsed": true
   },
   "outputs": [],
   "source": [
    "# At the bottom of the script there is some code which saves the model.\n",
    "# If you wish to restore your model from a previous state use this function.\n",
    "load_model = False\n",
    "#load_model = True"
   ]
  },
  {
   "cell_type": "code",
   "execution_count": 67,
   "metadata": {},
   "outputs": [
    {
     "name": "stdout",
     "output_type": "stream",
     "text": [
      "input types: int32 int32 int32 int32 int32\n",
      "Number of valid characters: 27\n",
      "'0'=0,\t'1'=1,\t'2'=2,\t'3'=3,\t'4'=4,\t'5'=5,\t'6'=6,\t'7'=7,\t'8'=8,\t'9'=9,\t'#'=10,\t'e'=11,\t'o'=12,\t'x'=13,\t'g'=14,\t'w'=15,\t'v'=16,\t'f'=17,\t's'=18,\t' '=19,\t'u'=20,\t'n'=21,\t'i'=22,\t't'=23,\t'z'=24,\t'r'=25,\t'h'=26,\t\n",
      "Stop/start character = #\n",
      "\n",
      "SAMPLE 0\n",
      "TEXT INPUTS:\t\t\t two six zero six\n",
      "ENCODED INPUTS:\t\t\t [23 15 12 19 18 22 13 19 24 11 25 12 19 18 22 13]\n",
      "INPUTS SEQUENCE LENGTH:\t\t 16\n",
      "TEXT TARGETS OUTPUT:\t\t 2606#\n",
      "TEXT TARGETS INPUT:\t\t #2606\n",
      "ENCODED TARGETS OUTPUT:\t\t [ 2  6  0  6 10]\n",
      "ENCODED TARGETS INPUT:\t\t [10  2  6  0  6]\n",
      "TARGETS SEQUENCE LENGTH:\t 5\n",
      "TARGETS MASK:\t\t\t [ 1.  1.  1.  1.  1.]\n",
      "\n",
      "SAMPLE 1\n",
      "TEXT INPUTS:\t\t\t six two seven\n",
      "ENCODED INPUTS:\t\t\t [18 22 13 19 23 15 12 19 18 11 16 11 21  0  0  0]\n",
      "INPUTS SEQUENCE LENGTH:\t\t 13\n",
      "TEXT TARGETS OUTPUT:\t\t 627#\n",
      "TEXT TARGETS INPUT:\t\t #627\n",
      "ENCODED TARGETS OUTPUT:\t\t [ 6  2  7 10  0]\n",
      "ENCODED TARGETS INPUT:\t\t [10  6  2  7  0]\n",
      "TARGETS SEQUENCE LENGTH:\t 4\n",
      "TARGETS MASK:\t\t\t [ 1.  1.  1.  1.  0.]\n",
      "\n",
      "SAMPLE 2\n",
      "TEXT INPUTS:\t\t\t six six\n",
      "ENCODED INPUTS:\t\t\t [18 22 13 19 18 22 13  0  0  0  0  0  0  0  0  0]\n",
      "INPUTS SEQUENCE LENGTH:\t\t 7\n",
      "TEXT TARGETS OUTPUT:\t\t 66#\n",
      "TEXT TARGETS INPUT:\t\t #66\n",
      "ENCODED TARGETS OUTPUT:\t\t [ 6  6 10  0  0]\n",
      "ENCODED TARGETS INPUT:\t\t [10  6  6  0  0]\n",
      "TARGETS SEQUENCE LENGTH:\t 3\n",
      "TARGETS MASK:\t\t\t [ 1.  1.  1.  0.  0.]\n"
     ]
    }
   ],
   "source": [
    "batch_size = 3\n",
    "inputs, inputs_seqlen, targets_in, targets_out, targets_seqlen, targets_mask, \\\n",
    "text_inputs, text_targets_in, text_targets_out = \\\n",
    "    get_batch(batch_size=batch_size, max_digits=4, min_digits=2)\n",
    "\n",
    "print(\"input types:\", inputs.dtype, inputs_seqlen.dtype, targets_in.dtype, targets_out.dtype, targets_seqlen.dtype)\n",
    "print_valid_characters()\n",
    "print(\"Stop/start character = #\")\n",
    "\n",
    "for i in range(batch_size):\n",
    "    print(\"\\nSAMPLE\",i)\n",
    "    print(\"TEXT INPUTS:\\t\\t\\t\", text_inputs[i])\n",
    "    print(\"ENCODED INPUTS:\\t\\t\\t\", inputs[i])\n",
    "    print(\"INPUTS SEQUENCE LENGTH:\\t\\t\", inputs_seqlen[i])\n",
    "    print(\"TEXT TARGETS OUTPUT:\\t\\t\", text_targets_out[i])\n",
    "    print(\"TEXT TARGETS INPUT:\\t\\t\", text_targets_in[i])\n",
    "    print(\"ENCODED TARGETS OUTPUT:\\t\\t\", targets_out[i])\n",
    "    print(\"ENCODED TARGETS INPUT:\\t\\t\", targets_in[i])\n",
    "    print(\"TARGETS SEQUENCE LENGTH:\\t\", targets_seqlen[i])\n",
    "    print(\"TARGETS MASK:\\t\\t\\t\", targets_mask[i])"
   ]
  },
  {
   "cell_type": "markdown",
   "metadata": {},
   "source": [
    "### Encoder-Decoder model setup\n",
    "Below is the TensorFlow model definition. We use an embedding layer to go from integer representation to vector representation of the input.\n",
    "\n",
    "TensorFlow has implementations of LSTM and GRU units.\n",
    "Both implementations assume that the input from the tensor below has the shape **`[batch_size, max_time, input_size]`**.\n",
    "\n",
    "Note that we have made use of a custom decoder wrapper."
   ]
  },
  {
   "cell_type": "code",
   "execution_count": 68,
   "metadata": {
    "collapsed": true
   },
   "outputs": [],
   "source": [
    "# resetting the graph\n",
    "tf.reset_default_graph()\n",
    "\n",
    "# Setting up hyperparameters and general configs\n",
    "MAX_DIGITS = 10\n",
    "MIN_DIGITS = 5\n",
    "NUM_INPUTS = 27\n",
    "NUM_OUTPUTS = 11 #(0-9 + '#')\n",
    "\n",
    "BATCH_SIZE = 16\n",
    "# try various learning rates 1e-2 to 1e-5\n",
    "LEARNING_RATE = 0.005\n",
    "X_EMBEDDINGS = 8\n",
    "t_EMBEDDINGS = 8\n",
    "NUM_UNITS_ENC = 16\n",
    "NUM_UNITS_DEC = 16\n",
    "\n",
    "\n",
    "# Setting up placeholders, these are the tensors that we \"feed\" to our network\n",
    "Xs = tf.placeholder(tf.int32, shape=[None, None], name='X_input')\n",
    "ts_in = tf.placeholder(tf.int32, shape=[None, None], name='t_input_in')\n",
    "ts_out = tf.placeholder(tf.int32, shape=[None, None], name='t_input_out')\n",
    "X_len = tf.placeholder(tf.int32, shape=[None], name='X_len')\n",
    "t_len = tf.placeholder(tf.int32, shape=[None], name='X_len')\n",
    "t_mask = tf.placeholder(tf.float32, shape=[None, None], name='t_mask')\n",
    "\n",
    "\n",
    "### Building the model\n",
    "# first we build the embeddings to make our characters into dense, trainable vectors\n",
    "X_embeddings = tf.get_variable('X_embeddings', [NUM_INPUTS, X_EMBEDDINGS],\n",
    "                               initializer=tf.random_normal_initializer(stddev=0.1))\n",
    "t_embeddings = tf.get_variable('t_embeddings', [NUM_OUTPUTS, t_EMBEDDINGS],\n",
    "                               initializer=tf.random_normal_initializer(stddev=0.1))\n",
    "\n",
    "X_embedded = tf.gather(X_embeddings, Xs, name='embed_X')\n",
    "t_embedded = tf.gather(t_embeddings, ts_in, name='embed_t')\n",
    "\n",
    "\n",
    "## forward encoding\n",
    "enc_cell = tf.nn.rnn_cell.GRUCell(NUM_UNITS_ENC)\n",
    "_, enc_state = tf.nn.dynamic_rnn(cell=enc_cell, inputs=X_embedded,\n",
    "                                 sequence_length=X_len, dtype=tf.float32)\n",
    "# use below incase TF's makes issues\n",
    "# enc_state, _ = tf_utils.encoder(X_embedded, X_len, 'encoder', NUM_UNITS_ENC)\n",
    "#\n",
    "# enc_state = tf.concat(1, [enc_state, enc_state])\n",
    "\n",
    "## decoding\n",
    "# note that we are using a wrapper for decoding here, this wrapper is hardcoded to only use GRU\n",
    "# check out tf_utils to see how you make your own decoder\n",
    "\n",
    "# setting up weights for computing the final output\n",
    "W_out = tf.get_variable('W_out', [NUM_UNITS_DEC, NUM_OUTPUTS])\n",
    "b_out = tf.get_variable('b_out', [NUM_OUTPUTS])\n",
    "\n",
    "dec_out, valid_dec_out = tf_utils.decoder(enc_state, t_embedded, t_len, \n",
    "                                          NUM_UNITS_DEC, t_embeddings,\n",
    "                                          W_out, b_out)\n",
    "\n",
    "## reshaping to have [batch_size*seqlen, num_units]\n",
    "out_tensor = tf.reshape(dec_out, [-1, NUM_UNITS_DEC])\n",
    "valid_out_tensor = tf.reshape(valid_dec_out, [-1, NUM_UNITS_DEC])\n",
    "# computing output\n",
    "out_tensor = tf.matmul(out_tensor, W_out) + b_out\n",
    "valid_out_tensor = tf.matmul(valid_out_tensor, W_out) + b_out\n",
    "\n",
    "## reshaping back to sequence\n",
    "b_size = tf.shape(X_len)[0] # use a variable we know has batch_size in [0]\n",
    "seq_len = tf.shape(t_embedded)[1] # variable we know has sequence length in [1]\n",
    "num_out = tf.constant(NUM_OUTPUTS) # casting NUM_OUTPUTS to a tensor variable\n",
    "out_shape = tf.concat([tf.expand_dims(b_size, 0),\n",
    "                      tf.expand_dims(seq_len, 0),\n",
    "                      tf.expand_dims(num_out, 0)],\n",
    "                     axis=0)\n",
    "\n",
    "out_tensor = tf.reshape(out_tensor, out_shape)\n",
    "valid_out_tensor = tf.reshape(valid_out_tensor, out_shape)\n",
    "# handling shape loss\n",
    "#out_tensor.set_shape([None, None, NUM_OUTPUTS])\n",
    "y = out_tensor\n",
    "y_valid = valid_out_tensor"
   ]
  },
  {
   "cell_type": "code",
   "execution_count": 69,
   "metadata": {},
   "outputs": [
    {
     "name": "stdout",
     "output_type": "stream",
     "text": [
      "X_embeddings:0                           (27, 8)\n",
      "t_embeddings:0                           (11, 8)\n",
      "rnn/gru_cell/gates/kernel:0              (24, 32)\n",
      "rnn/gru_cell/gates/bias:0                (32,)\n",
      "rnn/gru_cell/candidate/kernel:0          (24, 16)\n",
      "rnn/gru_cell/candidate/bias:0            (16,)\n",
      "W_out:0                                  (16, 11)\n",
      "b_out:0                                  (11,)\n",
      "decoder/W_z_x:0                          (8, 16)\n",
      "decoder/W_z_h:0                          (16, 16)\n",
      "decoder/b_z:0                            (16,)\n",
      "decoder/W_r_x:0                          (8, 16)\n",
      "decoder/W_r_h:0                          (16, 16)\n",
      "decoder/b_r:0                            (16,)\n",
      "decoder/W_c_x:0                          (8, 16)\n",
      "decoder/W_c_h:0                          (16, 16)\n",
      "decoder/b_h:0                            (16,)\n"
     ]
    }
   ],
   "source": [
    "# print all the variable names and shapes\n",
    "for var in tf.global_variables ():\n",
    "    s = var.name + \" \"*(40-len(var.name))\n",
    "    print(s, var.value().get_shape())"
   ]
  },
  {
   "cell_type": "markdown",
   "metadata": {},
   "source": [
    "### Defining the cost function, gradient clipping and accuracy\n",
    "Because the targets are categorical we use the cross entropy error.\n",
    "As the data is sequential we use the sequence to sequence cross entropy supplied in `tf_utils.py`.\n",
    "We use the Adam optimizer but you can experiment with the different optimizers implemented in [TensorFlow](https://www.tensorflow.org/api_docs/python/tf/train/Optimizer)."
   ]
  },
  {
   "cell_type": "code",
   "execution_count": 70,
   "metadata": {
    "collapsed": true
   },
   "outputs": [],
   "source": [
    "def loss_and_acc(preds):\n",
    "    # sequence_loss_tensor is a modification of TensorFlow's own sequence_to_sequence_loss\n",
    "    # TensorFlow's seq2seq loss works with a 2D list instead of a 3D tensors\n",
    "    loss = tf_utils.sequence_loss_tensor(preds, ts_out, t_mask, NUM_OUTPUTS) # notice that we use ts_out here!\n",
    "\n",
    "    ## regularization\n",
    "    #reg_scale = 0.00001\n",
    "    #regularize = tf.contrib.layers.l2_regularizer(reg_scale)\n",
    "    #params = tf.get_collection(tf.GraphKeys.TRAINABLE_VARIABLES)\n",
    "    #reg_term = sum([regularize(param) for param in params])\n",
    "    #loss += reg_term\n",
    "    \n",
    "    ## calculate accuracy\n",
    "    argmax = tf.to_int32(tf.argmax(preds, 2))\n",
    "    correct = tf.to_float(tf.equal(argmax, ts_out)) * t_mask\n",
    "    accuracy = tf.reduce_sum(correct) / tf.reduce_sum(t_mask)\n",
    "    return loss, accuracy, argmax\n",
    "\n",
    "loss, accuracy, predictions = loss_and_acc(y)\n",
    "loss_valid, accuracy_valid, predictions_valid = loss_and_acc(y_valid)\n",
    "\n",
    "# use global step to keep track of our iterations\n",
    "global_step = tf.Variable(0, name='global_step', trainable=False)\n",
    "\n",
    "# pick optimizer, try momentum or adadelta\n",
    "optimizer = tf.train.AdamOptimizer(LEARNING_RATE)\n",
    "\n",
    "# extract gradients for each variable\n",
    "grads_and_vars = optimizer.compute_gradients(loss)\n",
    "\n",
    "## add below for clipping by norm\n",
    "# gradients, variables = zip(*grads_and_vars)  # unzip list of tuples\n",
    "# clipped_gradients, global_norm = (\n",
    "#    tf.clip_by_global_norm(gradients, self.clip_norm) )\n",
    "# grads_and_vars = zip(clipped_gradients, variables)\n",
    "# apply gradients and make trainable function\n",
    "train_op = optimizer.apply_gradients(grads_and_vars, global_step=global_step)"
   ]
  },
  {
   "cell_type": "code",
   "execution_count": 71,
   "metadata": {},
   "outputs": [
    {
     "name": "stdout",
     "output_type": "stream",
     "text": [
      "WARNING:tensorflow:From <ipython-input-71-3a13120a4a03>:3: all_variables (from tensorflow.python.ops.variables) is deprecated and will be removed after 2017-03-02.\n",
      "Instructions for updating:\n",
      "Please use tf.global_variables instead.\n",
      "X_embeddings:0                           (27, 8)\n",
      "t_embeddings:0                           (11, 8)\n",
      "rnn/gru_cell/gates/kernel:0              (24, 32)\n",
      "rnn/gru_cell/gates/bias:0                (32,)\n",
      "rnn/gru_cell/candidate/kernel:0          (24, 16)\n",
      "rnn/gru_cell/candidate/bias:0            (16,)\n",
      "W_out:0                                  (16, 11)\n",
      "b_out:0                                  (11,)\n",
      "decoder/W_z_x:0                          (8, 16)\n",
      "decoder/W_z_h:0                          (16, 16)\n",
      "decoder/b_z:0                            (16,)\n",
      "decoder/W_r_x:0                          (8, 16)\n",
      "decoder/W_r_h:0                          (16, 16)\n",
      "decoder/b_r:0                            (16,)\n",
      "decoder/W_c_x:0                          (8, 16)\n",
      "decoder/W_c_h:0                          (16, 16)\n",
      "decoder/b_h:0                            (16,)\n",
      "global_step:0                            ()\n",
      "beta1_power:0                            ()\n",
      "beta2_power:0                            ()\n",
      "X_embeddings/Adam:0                      (27, 8)\n",
      "X_embeddings/Adam_1:0                    (27, 8)\n",
      "t_embeddings/Adam:0                      (11, 8)\n",
      "t_embeddings/Adam_1:0                    (11, 8)\n",
      "rnn/gru_cell/gates/kernel/Adam:0         (24, 32)\n",
      "rnn/gru_cell/gates/kernel/Adam_1:0       (24, 32)\n",
      "rnn/gru_cell/gates/bias/Adam:0           (32,)\n",
      "rnn/gru_cell/gates/bias/Adam_1:0         (32,)\n",
      "rnn/gru_cell/candidate/kernel/Adam:0     (24, 16)\n",
      "rnn/gru_cell/candidate/kernel/Adam_1:0   (24, 16)\n",
      "rnn/gru_cell/candidate/bias/Adam:0       (16,)\n",
      "rnn/gru_cell/candidate/bias/Adam_1:0     (16,)\n",
      "W_out/Adam:0                             (16, 11)\n",
      "W_out/Adam_1:0                           (16, 11)\n",
      "b_out/Adam:0                             (11,)\n",
      "b_out/Adam_1:0                           (11,)\n",
      "decoder/W_z_x/Adam:0                     (8, 16)\n",
      "decoder/W_z_x/Adam_1:0                   (8, 16)\n",
      "decoder/W_z_h/Adam:0                     (16, 16)\n",
      "decoder/W_z_h/Adam_1:0                   (16, 16)\n",
      "decoder/b_z/Adam:0                       (16,)\n",
      "decoder/b_z/Adam_1:0                     (16,)\n",
      "decoder/W_r_x/Adam:0                     (8, 16)\n",
      "decoder/W_r_x/Adam_1:0                   (8, 16)\n",
      "decoder/W_r_h/Adam:0                     (16, 16)\n",
      "decoder/W_r_h/Adam_1:0                   (16, 16)\n",
      "decoder/b_r/Adam:0                       (16,)\n",
      "decoder/b_r/Adam_1:0                     (16,)\n",
      "decoder/W_c_x/Adam:0                     (8, 16)\n",
      "decoder/W_c_x/Adam_1:0                   (8, 16)\n",
      "decoder/W_c_h/Adam:0                     (16, 16)\n",
      "decoder/W_c_h/Adam_1:0                   (16, 16)\n",
      "decoder/b_h/Adam:0                       (16,)\n",
      "decoder/b_h/Adam_1:0                     (16,)\n"
     ]
    }
   ],
   "source": [
    "# print all the variable names and shapes\n",
    "# notice that we now have the optimizer Adam as well!\n",
    "for var in tf.all_variables():\n",
    "    s = var.name + \" \"*(40-len(var.name))\n",
    "    print(s, var.value().get_shape())"
   ]
  },
  {
   "cell_type": "markdown",
   "metadata": {},
   "source": [
    "### Testing the forward pass"
   ]
  },
  {
   "cell_type": "code",
   "execution_count": 72,
   "metadata": {
    "collapsed": true
   },
   "outputs": [],
   "source": [
    "## Start the session\n",
    "# restricting memory usage\n",
    "gpu_opts = tf.GPUOptions(per_process_gpu_memory_fraction=0.35)\n",
    "sess = tf.Session(config=tf.ConfigProto(gpu_options=gpu_opts))\n",
    "\n",
    "# Initialize parameters\n",
    "if load_model:\n",
    "    try:\n",
    "        tf.train.Saver().restore(sess, \"/save/model.ckpt\")\n",
    "    except:\n",
    "        sess.run(tf.global_variables_initializer())\n",
    "        print('Model not found, new parameters initialized')\n",
    "else:\n",
    "    sess.run(tf.global_variables_initializer())"
   ]
  },
  {
   "cell_type": "code",
   "execution_count": 73,
   "metadata": {},
   "outputs": [
    {
     "name": "stdout",
     "output_type": "stream",
     "text": [
      "\n",
      "SAMPLE 0\n",
      "TEXT INPUTS:\t\t\t two six zero six\n",
      "TEXT TARGETS INPUT:\t\t #2606\n",
      "\n",
      "SAMPLE 1\n",
      "TEXT INPUTS:\t\t\t six two seven\n",
      "TEXT TARGETS INPUT:\t\t #627\n",
      "\n",
      "SAMPLE 2\n",
      "TEXT INPUTS:\t\t\t six six\n",
      "TEXT TARGETS INPUT:\t\t #66\n",
      "y (3, 5, 11)\n",
      "y_valid (3, 5, 11)\n"
     ]
    }
   ],
   "source": [
    "# as always, test the forward pass and initialize the tf.Session!\n",
    "for i in range(batch_size):\n",
    "    print(\"\\nSAMPLE\",i)\n",
    "    print(\"TEXT INPUTS:\\t\\t\\t\", text_inputs[i])\n",
    "    print(\"TEXT TARGETS INPUT:\\t\\t\", text_targets_in[i])\n",
    "\n",
    "feed_dict = {Xs: inputs, X_len: inputs_seqlen, ts_in: targets_in,\n",
    "             ts_out: targets_out, t_len: targets_seqlen}\n",
    "\n",
    "# test training forwardpass\n",
    "fetches = [y]\n",
    "res = sess.run(fetches=fetches, feed_dict=feed_dict)\n",
    "print(\"y\", res[0].shape)\n",
    "\n",
    "# test validation forwardpass\n",
    "fetches = [y_valid]\n",
    "res = sess.run(fetches=fetches, feed_dict=feed_dict)\n",
    "print(\"y_valid\", res[0].shape)"
   ]
  },
  {
   "cell_type": "code",
   "execution_count": 74,
   "metadata": {},
   "outputs": [
    {
     "name": "stdout",
     "output_type": "stream",
     "text": [
      "X_val (5000, 57)\n",
      "t_out_val (5000, 11)\n"
     ]
    }
   ],
   "source": [
    "#Generate some validation data\n",
    "X_val, X_len_val, t_in_val, t_out_val, t_len_val, t_mask_val, \\\n",
    "text_inputs_val, text_targets_in_val, text_targets_out_val = \\\n",
    "    get_batch(batch_size=5000, max_digits=MAX_DIGITS, min_digits=MIN_DIGITS)\n",
    "print(\"X_val\", X_val.shape)\n",
    "print(\"t_out_val\", t_out_val.shape)"
   ]
  },
  {
   "cell_type": "markdown",
   "metadata": {},
   "source": [
    "# Training\n",
    "\n",
    "Training RNN can take a while, especially if you are running it on your laptop.\n",
    "We won't train the model to completion, as the trends we are interested in can be seen earlier.\n",
    "If training takes to long feel free to stop it even earlier by interrupting the kernel."
   ]
  },
  {
   "cell_type": "code",
   "execution_count": 75,
   "metadata": {
    "scrolled": false
   },
   "outputs": [
    {
     "name": "stdout",
     "output_type": "stream",
     "text": [
      "Done\n",
      "CPU times: user 8min 10s, sys: 58.7 s, total: 9min 9s\n",
      "Wall time: 3min 1s\n"
     ]
    },
    {
     "data": {
      "image/png": "[encoded data removed]",
      "text/plain": [
       "<matplotlib.figure.Figure at 0x7f1b9c74ebe0>"
      ]
     },
     "metadata": {},
     "output_type": "display_data"
    }
   ],
   "source": [
    "%%time\n",
    "## If you get an error, remove this line! It makes the error message hard to understand.\n",
    "\n",
    "# setting up running parameters\n",
    "val_interval = 5000\n",
    "samples_to_process = 2e5\n",
    "samples_processed = 0\n",
    "samples_val = []\n",
    "costs, accs_val = [], []\n",
    "plt.figure()\n",
    "try:\n",
    "    while samples_processed < samples_to_process:\n",
    "        # load data\n",
    "        X_tr, X_len_tr, t_in_tr, t_out_tr, t_len_tr, t_mask_tr, \\\n",
    "        text_inputs_tr, text_targets_in_tr, text_targets_out_tr = \\\n",
    "            get_batch(batch_size=BATCH_SIZE,max_digits=MAX_DIGITS,min_digits=MIN_DIGITS)\n",
    "        # make fetches\n",
    "        fetches_tr = [train_op, loss, accuracy]\n",
    "        # set up feed dict\n",
    "        feed_dict_tr = {Xs: X_tr, X_len: X_len_tr, ts_in: t_in_tr,\n",
    "             ts_out: t_out_tr, t_len: t_len_tr, t_mask: t_mask_tr}\n",
    "        # run the model\n",
    "        res = tuple(sess.run(fetches=fetches_tr, feed_dict=feed_dict_tr))\n",
    "        _, batch_cost, batch_acc = res\n",
    "        costs += [batch_cost]\n",
    "        samples_processed += BATCH_SIZE\n",
    "        #if samples_processed % 1000 == 0: print(batch_cost, batch_acc)\n",
    "        #validation data\n",
    "        if samples_processed % val_interval == 0:\n",
    "            #print(\"validating\")\n",
    "            fetches_val = [accuracy_valid, y_valid]\n",
    "            feed_dict_val = {Xs: X_val, X_len: X_len_val, ts_in: t_in_val,\n",
    "             ts_out: t_out_val, t_len: t_len_val, t_mask: t_mask_val}\n",
    "            res = tuple(sess.run(fetches=fetches_val, feed_dict=feed_dict_val))\n",
    "            acc_val, output_val = res\n",
    "            samples_val += [samples_processed]\n",
    "            accs_val += [acc_val]\n",
    "            plt.plot(samples_val, accs_val, 'g-')\n",
    "            plt.ylabel('Validation Accuracy', fontsize=15)\n",
    "            plt.xlabel('Processed samples', fontsize=15)\n",
    "            plt.title('', fontsize=20)\n",
    "            plt.grid('on')\n",
    "            plt.savefig(\"out.png\")\n",
    "            display.display(display.Image(filename=\"out.png\"))\n",
    "            display.clear_output(wait=True)\n",
    "except KeyboardInterrupt:\n",
    "    pass\n",
    "\n",
    "print('Done')"
   ]
  },
  {
   "cell_type": "code",
   "execution_count": 77,
   "metadata": {
    "scrolled": false
   },
   "outputs": [
    {
     "data": {
      "image/png": "[encoded data removed]",
      "text/plain": [
       "<matplotlib.figure.Figure at 0x7f1bce3ed5f8>"
      ]
     },
     "metadata": {},
     "output_type": "display_data"
    }
   ],
   "source": [
    "#plot of validation accuracy for each target position\n",
    "plt.figure(figsize=(7,7))\n",
    "plt.plot(np.mean(np.argmax(output_val,axis=2)==t_out_val,axis=0))\n",
    "plt.ylabel('Accuracy', fontsize=15)\n",
    "plt.xlabel('Target position', fontsize=15)\n",
    "#plt.title('', fontsize=20)\n",
    "plt.grid('on')\n",
    "plt.show()\n",
    "# the network is good at the begining but when the sequence is longer it gets harder and harder"
   ]
  },
  {
   "cell_type": "code",
   "execution_count": 79,
   "metadata": {},
   "outputs": [
    {
     "name": "stdout",
     "output_type": "stream",
     "text": [
      "Model saved in file: ./save/model.ckpt\n"
     ]
    }
   ],
   "source": [
    "## Save model\n",
    "# Read more about saving and loading models at https://www.tensorflow.org/programmers_guide/saved_model\n",
    "\n",
    "# Save model\n",
    "save_path = tf.train.Saver().save(sess, \"./save/model.ckpt\")\n",
    "print(\"Model saved in file: %s\" % save_path)\n"
   ]
  },
  {
   "cell_type": "code",
   "execution_count": 103,
   "metadata": {
    "collapsed": true
   },
   "outputs": [],
   "source": [
    "## Close the session, and free the resources\n",
    "sess.close()"
   ]
  }
 ],
 "metadata": {
  "anaconda-cloud": {},
  "kernelspec": {
   "display_name": "Python 3",
   "language": "python",
   "name": "python3"
  },
  "language_info": {
   "codemirror_mode": {
    "name": "ipython",
    "version": 3
   },
   "file_extension": ".py",
   "mimetype": "text/x-python",
   "name": "python",
   "nbconvert_exporter": "python",
   "pygments_lexer": "ipython3",
   "version": "3.5.2"
  }
 },
 "nbformat": 4,
 "nbformat_minor": 1
}
